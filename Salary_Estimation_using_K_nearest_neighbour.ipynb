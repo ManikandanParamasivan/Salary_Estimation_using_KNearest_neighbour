{
 "cells": [
  {
   "cell_type": "markdown",
   "id": "09f466c4",
   "metadata": {},
   "source": [
    "# Importing Libs"
   ]
  },
  {
   "cell_type": "code",
   "execution_count": 1,
   "id": "f71ee334",
   "metadata": {},
   "outputs": [],
   "source": [
    "import pandas as pd\n",
    "import numpy as np"
   ]
  },
  {
   "cell_type": "markdown",
   "id": "1e07e1f8",
   "metadata": {},
   "source": [
    "# Loading Dataset & Summarizing"
   ]
  },
  {
   "cell_type": "code",
   "execution_count": 5,
   "id": "720b2062",
   "metadata": {},
   "outputs": [
    {
     "name": "stdout",
     "output_type": "stream",
     "text": [
      "(32561, 5)\n",
      "   age  education.num  capital.gain  hours.per.week income\n",
      "0   90              9             0              40  <=50K\n",
      "1   82              9             0              18  <=50K\n",
      "2   66             10             0              40  <=50K\n",
      "3   54              4             0              40  <=50K\n",
      "4   41             10             0              40  <=50K\n"
     ]
    }
   ],
   "source": [
    "data1 = pd.read_csv(\"salary_est.csv\")\n",
    "print(data1.shape)\n",
    "print(data1.head(5))"
   ]
  },
  {
   "cell_type": "markdown",
   "id": "46e2f5e6",
   "metadata": {},
   "source": [
    "# Mapping Salary Data"
   ]
  },
  {
   "cell_type": "code",
   "execution_count": 8,
   "id": "9f112b45",
   "metadata": {},
   "outputs": [
    {
     "name": "stdout",
     "output_type": "stream",
     "text": [
      "<bound method NDFrame.head of        age  education.num  capital.gain  hours.per.week  income\n",
      "0       90              9             0              40       0\n",
      "1       82              9             0              18       0\n",
      "2       66             10             0              40       0\n",
      "3       54              4             0              40       0\n",
      "4       41             10             0              40       0\n",
      "...    ...            ...           ...             ...     ...\n",
      "32556   22             10             0              40       0\n",
      "32557   27             12             0              38       0\n",
      "32558   40              9             0              40       1\n",
      "32559   58              9             0              40       0\n",
      "32560   22              9             0              20       0\n",
      "\n",
      "[32561 rows x 5 columns]>\n"
     ]
    }
   ],
   "source": [
    "income_Set = set(data1['income'])\n",
    "data1['income'] = data1['income'].map({'<=50K' : 0, '>50K':1}).astype(int)\n",
    "print(data1.head)"
   ]
  },
  {
   "cell_type": "markdown",
   "id": "9483846f",
   "metadata": {},
   "source": [
    "# Segregate Dataset into X n Y"
   ]
  },
  {
   "cell_type": "code",
   "execution_count": 11,
   "id": "9011cf71",
   "metadata": {},
   "outputs": [
    {
     "data": {
      "text/plain": [
       "array([[90,  9,  0, 40],\n",
       "       [82,  9,  0, 18],\n",
       "       [66, 10,  0, 40],\n",
       "       ...,\n",
       "       [40,  9,  0, 40],\n",
       "       [58,  9,  0, 40],\n",
       "       [22,  9,  0, 20]], dtype=int64)"
      ]
     },
     "execution_count": 11,
     "metadata": {},
     "output_type": "execute_result"
    }
   ],
   "source": [
    "x = data1.iloc[:,:-1].values\n",
    "x"
   ]
  },
  {
   "cell_type": "code",
   "execution_count": 12,
   "id": "3bbc13eb",
   "metadata": {},
   "outputs": [
    {
     "data": {
      "text/plain": [
       "array([0, 0, 0, ..., 1, 0, 0])"
      ]
     },
     "execution_count": 12,
     "metadata": {},
     "output_type": "execute_result"
    }
   ],
   "source": [
    "y = data1.iloc[:,-1].values\n",
    "y"
   ]
  },
  {
   "cell_type": "markdown",
   "id": "1a32e47b",
   "metadata": {},
   "source": [
    "# Splitting Dataset into Train n Test"
   ]
  },
  {
   "cell_type": "code",
   "execution_count": 13,
   "id": "61bdd164",
   "metadata": {},
   "outputs": [],
   "source": [
    "from sklearn.model_selection import train_test_split\n",
    "x_train,x_test,y_train,y_test = train_test_split(x,y,test_size = 0.25,random_state = 0)"
   ]
  },
  {
   "cell_type": "markdown",
   "id": "5ab49d9a",
   "metadata": {},
   "source": [
    "# Feature Scaling"
   ]
  },
  {
   "cell_type": "code",
   "execution_count": 14,
   "id": "c0cc5b03",
   "metadata": {},
   "outputs": [],
   "source": [
    "from sklearn.preprocessing import StandardScaler\n",
    "sc = StandardScaler()\n",
    "x_train = sc.fit_transform(x_train)\n",
    "x_test = sc.transform(x_test)"
   ]
  },
  {
   "cell_type": "markdown",
   "id": "dcbd0808",
   "metadata": {},
   "source": [
    "# Finding the best K value for the model"
   ]
  },
  {
   "cell_type": "code",
   "execution_count": 19,
   "id": "bd5a7157",
   "metadata": {},
   "outputs": [
    {
     "data": {
      "text/plain": [
       "Text(0, 0.5, 'Mean Error')"
      ]
     },
     "execution_count": 19,
     "metadata": {},
     "output_type": "execute_result"
    },
    {
     "data": {
      "image/png": "[encoded data removed]",
      "text/plain": [
       "<Figure size 864x432 with 1 Axes>"
      ]
     },
     "metadata": {
      "needs_background": "light"
     },
     "output_type": "display_data"
    }
   ],
   "source": [
    "error = []\n",
    "from sklearn.neighbors import KNeighborsClassifier\n",
    "import matplotlib.pyplot as mp\n",
    "\n",
    "for i in range(1,40):\n",
    "    model = KNeighborsClassifier(n_neighbors = i)\n",
    "    model.fit(x_train,y_train)\n",
    "    pred_i = model.predict(x_test)\n",
    "    error.append(np.mean(pred_i != y_test))\n",
    "\n",
    "mp.figure(figsize = (12,6))\n",
    "mp.plot(range(1,40), error, color = 'red', linestyle = 'dashed', marker = 'o',markerfacecolor = 'blue',markersize = 10)\n",
    "mp.title(\"Error Rate K value\")\n",
    "mp.xlabel('K Value')\n",
    "mp.ylabel('Mean Error')"
   ]
  },
  {
   "cell_type": "markdown",
   "id": "d3b6d5fe",
   "metadata": {},
   "source": [
    "# Training Dataset"
   ]
  },
  {
   "cell_type": "code",
   "execution_count": 27,
   "id": "60f14eaf",
   "metadata": {},
   "outputs": [
    {
     "data": {
      "text/plain": [
       "KNeighborsClassifier(n_neighbors=16)"
      ]
     },
     "execution_count": 27,
     "metadata": {},
     "output_type": "execute_result"
    }
   ],
   "source": [
    "from sklearn.neighbors import KNeighborsClassifier\n",
    "model = KNeighborsClassifier(n_neighbors = 16,metric = 'minkowski',p = 2)\n",
    "model.fit(x_train,y_train)"
   ]
  },
  {
   "cell_type": "markdown",
   "id": "11f7fcd8",
   "metadata": {},
   "source": [
    "# Prediction for new data"
   ]
  },
  {
   "cell_type": "code",
   "execution_count": 21,
   "id": "36556156",
   "metadata": {},
   "outputs": [
    {
     "name": "stdout",
     "output_type": "stream",
     "text": [
      "Enter the New Employee Age : 23\n",
      "Enter the New Employee Education : 10\n",
      "Enter the New Employee Capital Gain :0\n",
      "Enter the New Employee work hours per week: 50\n",
      "[0]\n",
      "Employee has a Salary below 50K\n"
     ]
    }
   ],
   "source": [
    "age = int(input(\"Enter the New Employee Age : \"))\n",
    "edu = int(input(\"Enter the New Employee Education : \"))\n",
    "cg = int(input(\"Enter the New Employee Capital Gain :\"))\n",
    "wh = int(input(\"Enter the New Employee work hours per week: \"))\n",
    "newem = [[age,edu,cg,wh]]\n",
    "result = model.predict(sc.transform(newem))\n",
    "print(result)\n",
    "\n",
    "if(result == 1):\n",
    "    print(\"Employee has a Salary above 50K\")\n",
    "else:\n",
    "    print(\"Employee has a Salary below 50K\")"
   ]
  },
  {
   "cell_type": "markdown",
   "id": "d86c3254",
   "metadata": {},
   "source": [
    "# Prediction for all datasets"
   ]
  },
  {
   "cell_type": "code",
   "execution_count": 30,
   "id": "78883b71",
   "metadata": {},
   "outputs": [
    {
     "name": "stdout",
     "output_type": "stream",
     "text": [
      "[[0 0]\n",
      " [0 0]\n",
      " [0 0]\n",
      " ...\n",
      " [0 0]\n",
      " [0 0]\n",
      " [0 0]]\n"
     ]
    }
   ],
   "source": [
    "y_pred = model.predict(x_test)\n",
    "print(np.concatenate((y_pred.reshape(len(y_pred),1),y_test.reshape(len(y_test),1)),1))"
   ]
  },
  {
   "cell_type": "markdown",
   "id": "71e79406",
   "metadata": {},
   "source": [
    "# Accuracy of the Model"
   ]
  },
  {
   "cell_type": "code",
   "execution_count": 31,
   "id": "f27beb33",
   "metadata": {},
   "outputs": [
    {
     "name": "stdout",
     "output_type": "stream",
     "text": [
      "[[5882  311]\n",
      " [1185  763]]\n",
      "Accuracy of the model : 81.62387913032796%\n"
     ]
    }
   ],
   "source": [
    "from sklearn.metrics import confusion_matrix,accuracy_score\n",
    "cm = confusion_matrix(y_test,y_pred)\n",
    "\n",
    "print(cm)\n",
    "print(\"Accuracy of the model : {0}%\".format(accuracy_score(y_test,y_pred)*100))"
   ]
  },
  {
   "cell_type": "markdown",
   "id": "8bc64e92",
   "metadata": {},
   "source": [
    "# End of the Module"
   ]
  }
 ],
 "metadata": {
  "kernelspec": {
   "display_name": "Python 3 (ipykernel)",
   "language": "python",
   "name": "python3"
  },
  "language_info": {
   "codemirror_mode": {
    "name": "ipython",
    "version": 3
   },
   "file_extension": ".py",
   "mimetype": "text/x-python",
   "name": "python",
   "nbconvert_exporter": "python",
   "pygments_lexer": "ipython3",
   "version": "3.9.7"
  }
 },
 "nbformat": 4,
 "nbformat_minor": 5
}
